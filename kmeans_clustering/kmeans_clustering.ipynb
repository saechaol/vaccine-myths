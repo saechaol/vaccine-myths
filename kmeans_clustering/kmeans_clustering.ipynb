{
 "cells": [
  {
   "cell_type": "code",
   "execution_count": 1,
   "metadata": {},
   "outputs": [
    {
     "name": "stderr",
     "output_type": "stream",
     "text": [
      "/Users/lucassaechao/opt/anaconda3/lib/python3.7/site-packages/gensim/similarities/__init__.py:15: UserWarning: The gensim.similarities.levenshtein submodule is disabled, because the optional Levenshtein package <https://pypi.org/project/python-Levenshtein/> is unavailable. Install Levenhstein (e.g. `pip install python-Levenshtein`) to suppress this warning.\n",
      "  warnings.warn(msg)\n"
     ]
    }
   ],
   "source": [
    "import pandas as pd\n",
    "import numpy as np\n",
    "from gensim.models import Word2Vec\n",
    "from sklearn.cluster import KMeans"
   ]
  },
  {
   "cell_type": "code",
   "execution_count": 2,
   "metadata": {},
   "outputs": [],
   "source": [
    "word_vectors = Word2Vec.load(\"word2vec.model\").wv"
   ]
  },
  {
   "cell_type": "code",
   "execution_count": 3,
   "metadata": {},
   "outputs": [],
   "source": [
    "model = KMeans(n_clusters=2, max_iter=1000, random_state=True, n_init=50).fit(X=word_vectors.vectors.astype('double'))"
   ]
  },
  {
   "cell_type": "code",
   "execution_count": 4,
   "metadata": {},
   "outputs": [
    {
     "data": {
      "text/plain": [
       "[('vaccines', 0.9999674558639526),\n",
       " ('no', 0.9999637007713318),\n",
       " ('cases', 0.9999628067016602),\n",
       " ('2', 0.9999620914459229),\n",
       " ('vaers', 0.99996018409729),\n",
       " ('vaccine', 0.99996018409729),\n",
       " ('well', 0.9999598264694214),\n",
       " ('people', 0.9999595880508423),\n",
       " ('despite', 0.9999576210975647),\n",
       " ('know', 0.9999573826789856)]"
      ]
     },
     "execution_count": 4,
     "metadata": {},
     "output_type": "execute_result"
    }
   ],
   "source": [
    "word_vectors.similar_by_vector(model.cluster_centers_[1], topn=10, restrict_vocab=None)"
   ]
  },
  {
   "cell_type": "code",
   "execution_count": 5,
   "metadata": {},
   "outputs": [],
   "source": [
    "positive_cluster_index = 1\n",
    "positive_cluster_center = model.cluster_centers_[positive_cluster_index]\n",
    "negative_cluster_center = model.cluster_centers_[1-positive_cluster_index]"
   ]
  },
  {
   "cell_type": "code",
   "execution_count": 6,
   "metadata": {},
   "outputs": [],
   "source": [
    "words = pd.DataFrame(word_vectors.index_to_key)\n",
    "words.columns = ['words']\n",
    "words['vectors'] = words.words.apply(lambda x: word_vectors[f'{x}'])\n",
    "words['cluster'] = words.vectors.apply(lambda x: model.predict([np.array(x)]))\n",
    "words.cluster = words.cluster.apply(lambda x: x[0])"
   ]
  },
  {
   "cell_type": "code",
   "execution_count": 7,
   "metadata": {},
   "outputs": [],
   "source": [
    "words['cluster_value'] = [1 if i==positive_cluster_index else -1 for i in words.cluster]\n",
    "words['closeness_score'] = words.apply(lambda x: 1/(model.transform([x.vectors]).min()), axis=1)\n",
    "words['sentiment_coeff'] = words.closeness_score * words.cluster_value"
   ]
  },
  {
   "cell_type": "code",
   "execution_count": 8,
   "metadata": {},
   "outputs": [
    {
     "data": {
      "text/html": [
       "<div>\n",
       "<style scoped>\n",
       "    .dataframe tbody tr th:only-of-type {\n",
       "        vertical-align: middle;\n",
       "    }\n",
       "\n",
       "    .dataframe tbody tr th {\n",
       "        vertical-align: top;\n",
       "    }\n",
       "\n",
       "    .dataframe thead th {\n",
       "        text-align: right;\n",
       "    }\n",
       "</style>\n",
       "<table border=\"1\" class=\"dataframe\">\n",
       "  <thead>\n",
       "    <tr style=\"text-align: right;\">\n",
       "      <th></th>\n",
       "      <th>words</th>\n",
       "      <th>vectors</th>\n",
       "      <th>cluster</th>\n",
       "      <th>cluster_value</th>\n",
       "      <th>closeness_score</th>\n",
       "      <th>sentiment_coeff</th>\n",
       "    </tr>\n",
       "  </thead>\n",
       "  <tbody>\n",
       "    <tr>\n",
       "      <th>0</th>\n",
       "      <td>not</td>\n",
       "      <td>[0.07564318, 0.08684474, -0.012424523, 0.06718...</td>\n",
       "      <td>1</td>\n",
       "      <td>1</td>\n",
       "      <td>101.813369</td>\n",
       "      <td>101.813369</td>\n",
       "    </tr>\n",
       "    <tr>\n",
       "      <th>1</th>\n",
       "      <td>vaccines</td>\n",
       "      <td>[0.07480008, 0.08754582, -0.012953626, 0.06616...</td>\n",
       "      <td>1</td>\n",
       "      <td>1</td>\n",
       "      <td>124.070378</td>\n",
       "      <td>124.070378</td>\n",
       "    </tr>\n",
       "    <tr>\n",
       "      <th>2</th>\n",
       "      <td>vaccine</td>\n",
       "      <td>[0.076154694, 0.08644949, -0.013088536, 0.0664...</td>\n",
       "      <td>1</td>\n",
       "      <td>1</td>\n",
       "      <td>112.054804</td>\n",
       "      <td>112.054804</td>\n",
       "    </tr>\n",
       "    <tr>\n",
       "      <th>3</th>\n",
       "      <td>people</td>\n",
       "      <td>[0.07499545, 0.08620866, -0.013711694, 0.06725...</td>\n",
       "      <td>1</td>\n",
       "      <td>1</td>\n",
       "      <td>111.116663</td>\n",
       "      <td>111.116663</td>\n",
       "    </tr>\n",
       "    <tr>\n",
       "      <th>4</th>\n",
       "      <td>:</td>\n",
       "      <td>[0.07524767, 0.0863913, -0.012004886, 0.065393...</td>\n",
       "      <td>1</td>\n",
       "      <td>1</td>\n",
       "      <td>100.407509</td>\n",
       "      <td>100.407509</td>\n",
       "    </tr>\n",
       "    <tr>\n",
       "      <th>...</th>\n",
       "      <td>...</td>\n",
       "      <td>...</td>\n",
       "      <td>...</td>\n",
       "      <td>...</td>\n",
       "      <td>...</td>\n",
       "      <td>...</td>\n",
       "    </tr>\n",
       "    <tr>\n",
       "      <th>95</th>\n",
       "      <td>fact</td>\n",
       "      <td>[0.07595471, 0.08819071, -0.014206848, 0.06614...</td>\n",
       "      <td>1</td>\n",
       "      <td>1</td>\n",
       "      <td>60.425578</td>\n",
       "      <td>60.425578</td>\n",
       "    </tr>\n",
       "    <tr>\n",
       "      <th>96</th>\n",
       "      <td>case</td>\n",
       "      <td>[0.07509966, 0.08688982, -0.013935839, 0.06575...</td>\n",
       "      <td>1</td>\n",
       "      <td>1</td>\n",
       "      <td>98.260028</td>\n",
       "      <td>98.260028</td>\n",
       "    </tr>\n",
       "    <tr>\n",
       "      <th>97</th>\n",
       "      <td>something</td>\n",
       "      <td>[0.07596481, 0.086455, -0.011966065, 0.0670234...</td>\n",
       "      <td>1</td>\n",
       "      <td>1</td>\n",
       "      <td>81.071620</td>\n",
       "      <td>81.071620</td>\n",
       "    </tr>\n",
       "    <tr>\n",
       "      <th>98</th>\n",
       "      <td>so</td>\n",
       "      <td>[0.07567345, 0.08615752, -0.012050046, 0.06525...</td>\n",
       "      <td>1</td>\n",
       "      <td>1</td>\n",
       "      <td>94.514928</td>\n",
       "      <td>94.514928</td>\n",
       "    </tr>\n",
       "    <tr>\n",
       "      <th>99</th>\n",
       "      <td>anything</td>\n",
       "      <td>[0.0748697, 0.08705698, -0.013516918, 0.066393...</td>\n",
       "      <td>1</td>\n",
       "      <td>1</td>\n",
       "      <td>78.125677</td>\n",
       "      <td>78.125677</td>\n",
       "    </tr>\n",
       "  </tbody>\n",
       "</table>\n",
       "<p>100 rows × 6 columns</p>\n",
       "</div>"
      ],
      "text/plain": [
       "        words                                            vectors  cluster  \\\n",
       "0         not  [0.07564318, 0.08684474, -0.012424523, 0.06718...        1   \n",
       "1    vaccines  [0.07480008, 0.08754582, -0.012953626, 0.06616...        1   \n",
       "2     vaccine  [0.076154694, 0.08644949, -0.013088536, 0.0664...        1   \n",
       "3      people  [0.07499545, 0.08620866, -0.013711694, 0.06725...        1   \n",
       "4           :  [0.07524767, 0.0863913, -0.012004886, 0.065393...        1   \n",
       "..        ...                                                ...      ...   \n",
       "95       fact  [0.07595471, 0.08819071, -0.014206848, 0.06614...        1   \n",
       "96       case  [0.07509966, 0.08688982, -0.013935839, 0.06575...        1   \n",
       "97  something  [0.07596481, 0.086455, -0.011966065, 0.0670234...        1   \n",
       "98         so  [0.07567345, 0.08615752, -0.012050046, 0.06525...        1   \n",
       "99   anything  [0.0748697, 0.08705698, -0.013516918, 0.066393...        1   \n",
       "\n",
       "    cluster_value  closeness_score  sentiment_coeff  \n",
       "0               1       101.813369       101.813369  \n",
       "1               1       124.070378       124.070378  \n",
       "2               1       112.054804       112.054804  \n",
       "3               1       111.116663       111.116663  \n",
       "4               1       100.407509       100.407509  \n",
       "..            ...              ...              ...  \n",
       "95              1        60.425578        60.425578  \n",
       "96              1        98.260028        98.260028  \n",
       "97              1        81.071620        81.071620  \n",
       "98              1        94.514928        94.514928  \n",
       "99              1        78.125677        78.125677  \n",
       "\n",
       "[100 rows x 6 columns]"
      ]
     },
     "execution_count": 8,
     "metadata": {},
     "output_type": "execute_result"
    }
   ],
   "source": [
    "words.head(100)"
   ]
  },
  {
   "cell_type": "code",
   "execution_count": 9,
   "metadata": {},
   "outputs": [],
   "source": [
    "words[['words', 'sentiment_coeff']].to_csv('sentiment_dictionary.csv', index=False)"
   ]
  },
  {
   "cell_type": "code",
   "execution_count": null,
   "metadata": {},
   "outputs": [],
   "source": []
  }
 ],
 "metadata": {
  "kernelspec": {
   "display_name": "Python 3",
   "language": "python",
   "name": "python3"
  },
  "language_info": {
   "codemirror_mode": {
    "name": "ipython",
    "version": 3
   },
   "file_extension": ".py",
   "mimetype": "text/x-python",
   "name": "python",
   "nbconvert_exporter": "python",
   "pygments_lexer": "ipython3",
   "version": "3.7.6"
  }
 },
 "nbformat": 4,
 "nbformat_minor": 4
}
