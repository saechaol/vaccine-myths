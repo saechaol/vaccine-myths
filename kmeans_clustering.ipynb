{
 "cells": [
  {
   "cell_type": "code",
   "execution_count": 28,
   "metadata": {},
   "outputs": [],
   "source": [
    "import pandas as pd\n",
    "import numpy as np\n",
    "from gensim.models import Word2Vec\n",
    "from sklearn.cluster import KMeans"
   ]
  },
  {
   "cell_type": "code",
   "execution_count": 29,
   "metadata": {},
   "outputs": [],
   "source": [
    "word_vectors = Word2Vec.load(\"word2vec.model\").wv"
   ]
  },
  {
   "cell_type": "code",
   "execution_count": 30,
   "metadata": {},
   "outputs": [],
   "source": [
    "model = KMeans(n_clusters=2, max_iter=1000, random_state=True, n_init=50).fit(X=word_vectors.vectors.astype('double'))"
   ]
  },
  {
   "cell_type": "code",
   "execution_count": 31,
   "metadata": {},
   "outputs": [
    {
     "data": {
      "text/plain": [
       "[('people', 0.9999606609344482),\n",
       " ('population', 0.9999570846557617),\n",
       " ('https_www', 0.9999557733535767),\n",
       " ('study', 0.9999554753303528),\n",
       " ('we', 0.9999547004699707),\n",
       " ('immune_system', 0.9999538660049438),\n",
       " ('events', 0.9999530911445618),\n",
       " ('need', 0.999953031539917),\n",
       " ('even', 0.9999529123306274),\n",
       " ('many', 0.9999527335166931)]"
      ]
     },
     "execution_count": 31,
     "metadata": {},
     "output_type": "execute_result"
    }
   ],
   "source": [
    "word_vectors.similar_by_vector(model.cluster_centers_[1], topn=10, restrict_vocab=None)"
   ]
  },
  {
   "cell_type": "code",
   "execution_count": 32,
   "metadata": {},
   "outputs": [],
   "source": [
    "positive_cluster_index = 1\n",
    "positive_cluster_center = model.cluster_centers_[positive_cluster_index]\n",
    "negative_cluster_center = model.cluster_centers_[1-positive_cluster_index]"
   ]
  },
  {
   "cell_type": "code",
   "execution_count": 33,
   "metadata": {},
   "outputs": [],
   "source": [
    "words = pd.DataFrame(word_vectors.index_to_key)\n",
    "words.columns = ['words']\n",
    "words['vectors'] = words.words.apply(lambda x: word_vectors[f'{x}'])\n",
    "words['cluster'] = words.vectors.apply(lambda x: model.predict([np.array(x)]))\n",
    "words.cluster = words.cluster.apply(lambda x: x[0])"
   ]
  },
  {
   "cell_type": "code",
   "execution_count": 34,
   "metadata": {},
   "outputs": [],
   "source": [
    "words['cluster_value'] = [1 if i==positive_cluster_index else -1 for i in words.cluster]\n",
    "words['closeness_score'] = words.apply(lambda x: 1/(model.transform([x.vectors]).min()), axis=1)\n",
    "words['sentiment_coeff'] = words.closeness_score * words.cluster_value"
   ]
  },
  {
   "cell_type": "code",
   "execution_count": 35,
   "metadata": {},
   "outputs": [
    {
     "data": {
      "text/html": [
       "<div>\n",
       "<style scoped>\n",
       "    .dataframe tbody tr th:only-of-type {\n",
       "        vertical-align: middle;\n",
       "    }\n",
       "\n",
       "    .dataframe tbody tr th {\n",
       "        vertical-align: top;\n",
       "    }\n",
       "\n",
       "    .dataframe thead th {\n",
       "        text-align: right;\n",
       "    }\n",
       "</style>\n",
       "<table border=\"1\" class=\"dataframe\">\n",
       "  <thead>\n",
       "    <tr style=\"text-align: right;\">\n",
       "      <th></th>\n",
       "      <th>words</th>\n",
       "      <th>vectors</th>\n",
       "      <th>cluster</th>\n",
       "      <th>cluster_value</th>\n",
       "      <th>closeness_score</th>\n",
       "      <th>sentiment_coeff</th>\n",
       "    </tr>\n",
       "  </thead>\n",
       "  <tbody>\n",
       "    <tr>\n",
       "      <th>0</th>\n",
       "      <td>not</td>\n",
       "      <td>[-0.025296632, 0.04924525, 0.015694914, 0.0687...</td>\n",
       "      <td>1</td>\n",
       "      <td>1</td>\n",
       "      <td>86.808504</td>\n",
       "      <td>86.808504</td>\n",
       "    </tr>\n",
       "    <tr>\n",
       "      <th>1</th>\n",
       "      <td>vaccines</td>\n",
       "      <td>[-0.026174884, 0.050323445, 0.015249365, 0.067...</td>\n",
       "      <td>1</td>\n",
       "      <td>1</td>\n",
       "      <td>93.373727</td>\n",
       "      <td>93.373727</td>\n",
       "    </tr>\n",
       "    <tr>\n",
       "      <th>2</th>\n",
       "      <td>vaccine</td>\n",
       "      <td>[-0.0244397, 0.049079433, 0.014999853, 0.06796...</td>\n",
       "      <td>1</td>\n",
       "      <td>1</td>\n",
       "      <td>88.306299</td>\n",
       "      <td>88.306299</td>\n",
       "    </tr>\n",
       "    <tr>\n",
       "      <th>3</th>\n",
       "      <td>it</td>\n",
       "      <td>[-0.025832856, 0.048659787, 0.014474272, 0.068...</td>\n",
       "      <td>1</td>\n",
       "      <td>1</td>\n",
       "      <td>96.478844</td>\n",
       "      <td>96.478844</td>\n",
       "    </tr>\n",
       "    <tr>\n",
       "      <th>4</th>\n",
       "      <td>the</td>\n",
       "      <td>[-0.02548848, 0.048931856, 0.016329624, 0.0665...</td>\n",
       "      <td>1</td>\n",
       "      <td>1</td>\n",
       "      <td>89.883686</td>\n",
       "      <td>89.883686</td>\n",
       "    </tr>\n",
       "    <tr>\n",
       "      <th>...</th>\n",
       "      <td>...</td>\n",
       "      <td>...</td>\n",
       "      <td>...</td>\n",
       "      <td>...</td>\n",
       "      <td>...</td>\n",
       "      <td>...</td>\n",
       "    </tr>\n",
       "    <tr>\n",
       "      <th>95</th>\n",
       "      <td>now</td>\n",
       "      <td>[-0.025005462, 0.050550293, 0.01439288, 0.0675...</td>\n",
       "      <td>1</td>\n",
       "      <td>1</td>\n",
       "      <td>78.996616</td>\n",
       "      <td>78.996616</td>\n",
       "    </tr>\n",
       "    <tr>\n",
       "      <th>96</th>\n",
       "      <td>vaccines_cause</td>\n",
       "      <td>[-0.025819441, 0.049638093, 0.014051788, 0.067...</td>\n",
       "      <td>1</td>\n",
       "      <td>1</td>\n",
       "      <td>77.565101</td>\n",
       "      <td>77.565101</td>\n",
       "    </tr>\n",
       "    <tr>\n",
       "      <th>97</th>\n",
       "      <td>we</td>\n",
       "      <td>[-0.02475505, 0.04928904, 0.016058955, 0.06835...</td>\n",
       "      <td>1</td>\n",
       "      <td>1</td>\n",
       "      <td>105.008478</td>\n",
       "      <td>105.008478</td>\n",
       "    </tr>\n",
       "    <tr>\n",
       "      <th>98</th>\n",
       "      <td>believe</td>\n",
       "      <td>[-0.025045833, 0.048709385, 0.016401256, 0.066...</td>\n",
       "      <td>1</td>\n",
       "      <td>1</td>\n",
       "      <td>82.231033</td>\n",
       "      <td>82.231033</td>\n",
       "    </tr>\n",
       "    <tr>\n",
       "      <th>99</th>\n",
       "      <td>found</td>\n",
       "      <td>[-0.025989091, 0.049651217, 0.014589516, 0.067...</td>\n",
       "      <td>1</td>\n",
       "      <td>1</td>\n",
       "      <td>78.868631</td>\n",
       "      <td>78.868631</td>\n",
       "    </tr>\n",
       "  </tbody>\n",
       "</table>\n",
       "<p>100 rows × 6 columns</p>\n",
       "</div>"
      ],
      "text/plain": [
       "             words                                            vectors  \\\n",
       "0              not  [-0.025296632, 0.04924525, 0.015694914, 0.0687...   \n",
       "1         vaccines  [-0.026174884, 0.050323445, 0.015249365, 0.067...   \n",
       "2          vaccine  [-0.0244397, 0.049079433, 0.014999853, 0.06796...   \n",
       "3               it  [-0.025832856, 0.048659787, 0.014474272, 0.068...   \n",
       "4              the  [-0.02548848, 0.048931856, 0.016329624, 0.0665...   \n",
       "..             ...                                                ...   \n",
       "95             now  [-0.025005462, 0.050550293, 0.01439288, 0.0675...   \n",
       "96  vaccines_cause  [-0.025819441, 0.049638093, 0.014051788, 0.067...   \n",
       "97              we  [-0.02475505, 0.04928904, 0.016058955, 0.06835...   \n",
       "98         believe  [-0.025045833, 0.048709385, 0.016401256, 0.066...   \n",
       "99           found  [-0.025989091, 0.049651217, 0.014589516, 0.067...   \n",
       "\n",
       "    cluster  cluster_value  closeness_score  sentiment_coeff  \n",
       "0         1              1        86.808504        86.808504  \n",
       "1         1              1        93.373727        93.373727  \n",
       "2         1              1        88.306299        88.306299  \n",
       "3         1              1        96.478844        96.478844  \n",
       "4         1              1        89.883686        89.883686  \n",
       "..      ...            ...              ...              ...  \n",
       "95        1              1        78.996616        78.996616  \n",
       "96        1              1        77.565101        77.565101  \n",
       "97        1              1       105.008478       105.008478  \n",
       "98        1              1        82.231033        82.231033  \n",
       "99        1              1        78.868631        78.868631  \n",
       "\n",
       "[100 rows x 6 columns]"
      ]
     },
     "execution_count": 35,
     "metadata": {},
     "output_type": "execute_result"
    }
   ],
   "source": [
    "words.head(100)"
   ]
  },
  {
   "cell_type": "code",
   "execution_count": 36,
   "metadata": {},
   "outputs": [],
   "source": [
    "words[['words', 'sentiment_coeff']].to_csv('sentiment_dictionary.csv', index=False)"
   ]
  },
  {
   "cell_type": "code",
   "execution_count": null,
   "metadata": {},
   "outputs": [],
   "source": []
  },
  {
   "cell_type": "code",
   "execution_count": null,
   "metadata": {},
   "outputs": [],
   "source": []
  }
 ],
 "metadata": {
  "kernelspec": {
   "display_name": "Python 3",
   "language": "python",
   "name": "python3"
  },
  "language_info": {
   "codemirror_mode": {
    "name": "ipython",
    "version": 3
   },
   "file_extension": ".py",
   "mimetype": "text/x-python",
   "name": "python",
   "nbconvert_exporter": "python",
   "pygments_lexer": "ipython3",
   "version": "3.7.6"
  }
 },
 "nbformat": 4,
 "nbformat_minor": 4
}
