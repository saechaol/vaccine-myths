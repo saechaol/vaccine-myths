{
 "cells": [
  {
   "cell_type": "code",
   "execution_count": 3,
   "metadata": {},
   "outputs": [],
   "source": [
    "import pandas as pd\n",
    "import numpy as np\n",
    "from gensim.models import Word2Vec\n",
    "from sklearn.cluster import KMeans"
   ]
  },
  {
   "cell_type": "code",
   "execution_count": 4,
   "metadata": {},
   "outputs": [],
   "source": [
    "word_vectors = Word2Vec.load(\"word2vec.model\").wv"
   ]
  },
  {
   "cell_type": "code",
   "execution_count": 5,
   "metadata": {},
   "outputs": [],
   "source": [
    "model = KMeans(n_clusters=2, max_iter=1000, random_state=True, n_init=50).fit(X=word_vectors.vectors.astype('double'))"
   ]
  },
  {
   "cell_type": "code",
   "execution_count": 6,
   "metadata": {},
   "outputs": [
    {
     "data": {
      "text/plain": [
       "[('damn', 1.0),\n",
       " ('share', 0.9978341460227966),\n",
       " ('viruses', 0.9978153705596924),\n",
       " ('troll', 0.9978151321411133),\n",
       " ('research', 0.9978087544441223),\n",
       " ('every_year', 0.9978033900260925),\n",
       " ('liver', 0.9978009462356567),\n",
       " ('researchers', 0.9977980852127075),\n",
       " ('ya', 0.9977952241897583),\n",
       " ('diabetes', 0.9977949857711792)]"
      ]
     },
     "execution_count": 6,
     "metadata": {},
     "output_type": "execute_result"
    }
   ],
   "source": [
    "word_vectors.similar_by_vector(model.cluster_centers_[1], topn=10, restrict_vocab=None)"
   ]
  },
  {
   "cell_type": "code",
   "execution_count": 7,
   "metadata": {},
   "outputs": [],
   "source": [
    "positive_cluster_index = 1\n",
    "positive_cluster_center = model.cluster_centers_[positive_cluster_index]\n",
    "negative_cluster_center = model.cluster_centers_[1-positive_cluster_index]"
   ]
  },
  {
   "cell_type": "code",
   "execution_count": 8,
   "metadata": {},
   "outputs": [],
   "source": [
    "words = pd.DataFrame(word_vectors.index_to_key)\n",
    "words.columns = ['words']\n",
    "words['vectors'] = words.words.apply(lambda x: word_vectors[f'{x}'])\n",
    "words['cluster'] = words.vectors.apply(lambda x: model.predict([np.array(x)]))\n",
    "words.cluster = words.cluster.apply(lambda x: x[0])"
   ]
  },
  {
   "cell_type": "code",
   "execution_count": 9,
   "metadata": {},
   "outputs": [
    {
     "name": "stderr",
     "output_type": "stream",
     "text": [
      "C:\\Users\\19165\\anaconda3\\lib\\site-packages\\ipykernel_launcher.py:2: RuntimeWarning: divide by zero encountered in double_scalars\n",
      "  \n"
     ]
    }
   ],
   "source": [
    "words['cluster_value'] = [1 if i==positive_cluster_index else -1 for i in words.cluster]\n",
    "words['closeness_score'] = words.apply(lambda x: 1/(model.transform([x.vectors]).min()), axis=1)\n",
    "words['sentiment_coeff'] = words.closeness_score * words.cluster_value"
   ]
  },
  {
   "cell_type": "code",
   "execution_count": 10,
   "metadata": {},
   "outputs": [
    {
     "data": {
      "text/html": [
       "<div>\n",
       "<style scoped>\n",
       "    .dataframe tbody tr th:only-of-type {\n",
       "        vertical-align: middle;\n",
       "    }\n",
       "\n",
       "    .dataframe tbody tr th {\n",
       "        vertical-align: top;\n",
       "    }\n",
       "\n",
       "    .dataframe thead th {\n",
       "        text-align: right;\n",
       "    }\n",
       "</style>\n",
       "<table border=\"1\" class=\"dataframe\">\n",
       "  <thead>\n",
       "    <tr style=\"text-align: right;\">\n",
       "      <th></th>\n",
       "      <th>words</th>\n",
       "      <th>vectors</th>\n",
       "      <th>cluster</th>\n",
       "      <th>cluster_value</th>\n",
       "      <th>closeness_score</th>\n",
       "      <th>sentiment_coeff</th>\n",
       "    </tr>\n",
       "  </thead>\n",
       "  <tbody>\n",
       "    <tr>\n",
       "      <th>0</th>\n",
       "      <td>-</td>\n",
       "      <td>[-0.011042766, 0.008188689, 0.012138765, 0.106...</td>\n",
       "      <td>0</td>\n",
       "      <td>-1</td>\n",
       "      <td>62.325315</td>\n",
       "      <td>-62.325315</td>\n",
       "    </tr>\n",
       "    <tr>\n",
       "      <th>1</th>\n",
       "      <td>not</td>\n",
       "      <td>[-0.011572116, 0.010071824, 0.011039776, 0.105...</td>\n",
       "      <td>0</td>\n",
       "      <td>-1</td>\n",
       "      <td>71.104900</td>\n",
       "      <td>-71.104900</td>\n",
       "    </tr>\n",
       "    <tr>\n",
       "      <th>2</th>\n",
       "      <td>the</td>\n",
       "      <td>[-0.009433307, 0.008307717, 0.010965861, 0.105...</td>\n",
       "      <td>0</td>\n",
       "      <td>-1</td>\n",
       "      <td>81.826639</td>\n",
       "      <td>-81.826639</td>\n",
       "    </tr>\n",
       "    <tr>\n",
       "      <th>3</th>\n",
       "      <td>vaccines</td>\n",
       "      <td>[-0.011123741, 0.007967666, 0.01010274, 0.1063...</td>\n",
       "      <td>0</td>\n",
       "      <td>-1</td>\n",
       "      <td>81.966212</td>\n",
       "      <td>-81.966212</td>\n",
       "    </tr>\n",
       "    <tr>\n",
       "      <th>4</th>\n",
       "      <td>vaccine</td>\n",
       "      <td>[-0.010740728, 0.008083487, 0.012202889, 0.104...</td>\n",
       "      <td>0</td>\n",
       "      <td>-1</td>\n",
       "      <td>76.443623</td>\n",
       "      <td>-76.443623</td>\n",
       "    </tr>\n",
       "    <tr>\n",
       "      <th>...</th>\n",
       "      <td>...</td>\n",
       "      <td>...</td>\n",
       "      <td>...</td>\n",
       "      <td>...</td>\n",
       "      <td>...</td>\n",
       "      <td>...</td>\n",
       "    </tr>\n",
       "    <tr>\n",
       "      <th>95</th>\n",
       "      <td>cause</td>\n",
       "      <td>[-0.010137395, 0.009836652, 0.010254365, 0.105...</td>\n",
       "      <td>0</td>\n",
       "      <td>-1</td>\n",
       "      <td>76.364046</td>\n",
       "      <td>-76.364046</td>\n",
       "    </tr>\n",
       "    <tr>\n",
       "      <th>96</th>\n",
       "      <td>risk</td>\n",
       "      <td>[-0.010962962, 0.008965098, 0.010230063, 0.105...</td>\n",
       "      <td>0</td>\n",
       "      <td>-1</td>\n",
       "      <td>92.802244</td>\n",
       "      <td>-92.802244</td>\n",
       "    </tr>\n",
       "    <tr>\n",
       "      <th>97</th>\n",
       "      <td>case</td>\n",
       "      <td>[-0.009793761, 0.008506371, 0.01211847, 0.1064...</td>\n",
       "      <td>0</td>\n",
       "      <td>-1</td>\n",
       "      <td>81.443333</td>\n",
       "      <td>-81.443333</td>\n",
       "    </tr>\n",
       "    <tr>\n",
       "      <th>98</th>\n",
       "      <td>www_ncbi</td>\n",
       "      <td>[-0.010299206, 0.008096758, 0.012155679, 0.104...</td>\n",
       "      <td>0</td>\n",
       "      <td>-1</td>\n",
       "      <td>83.960561</td>\n",
       "      <td>-83.960561</td>\n",
       "    </tr>\n",
       "    <tr>\n",
       "      <th>99</th>\n",
       "      <td>body</td>\n",
       "      <td>[-0.01110561, 0.008977846, 0.01071663, 0.10552...</td>\n",
       "      <td>0</td>\n",
       "      <td>-1</td>\n",
       "      <td>89.336103</td>\n",
       "      <td>-89.336103</td>\n",
       "    </tr>\n",
       "  </tbody>\n",
       "</table>\n",
       "<p>100 rows × 6 columns</p>\n",
       "</div>"
      ],
      "text/plain": [
       "       words                                            vectors  cluster  \\\n",
       "0          -  [-0.011042766, 0.008188689, 0.012138765, 0.106...        0   \n",
       "1        not  [-0.011572116, 0.010071824, 0.011039776, 0.105...        0   \n",
       "2        the  [-0.009433307, 0.008307717, 0.010965861, 0.105...        0   \n",
       "3   vaccines  [-0.011123741, 0.007967666, 0.01010274, 0.1063...        0   \n",
       "4    vaccine  [-0.010740728, 0.008083487, 0.012202889, 0.104...        0   \n",
       "..       ...                                                ...      ...   \n",
       "95     cause  [-0.010137395, 0.009836652, 0.010254365, 0.105...        0   \n",
       "96      risk  [-0.010962962, 0.008965098, 0.010230063, 0.105...        0   \n",
       "97      case  [-0.009793761, 0.008506371, 0.01211847, 0.1064...        0   \n",
       "98  www_ncbi  [-0.010299206, 0.008096758, 0.012155679, 0.104...        0   \n",
       "99      body  [-0.01110561, 0.008977846, 0.01071663, 0.10552...        0   \n",
       "\n",
       "    cluster_value  closeness_score  sentiment_coeff  \n",
       "0              -1        62.325315       -62.325315  \n",
       "1              -1        71.104900       -71.104900  \n",
       "2              -1        81.826639       -81.826639  \n",
       "3              -1        81.966212       -81.966212  \n",
       "4              -1        76.443623       -76.443623  \n",
       "..            ...              ...              ...  \n",
       "95             -1        76.364046       -76.364046  \n",
       "96             -1        92.802244       -92.802244  \n",
       "97             -1        81.443333       -81.443333  \n",
       "98             -1        83.960561       -83.960561  \n",
       "99             -1        89.336103       -89.336103  \n",
       "\n",
       "[100 rows x 6 columns]"
      ]
     },
     "execution_count": 10,
     "metadata": {},
     "output_type": "execute_result"
    }
   ],
   "source": [
    "words.head(100)"
   ]
  },
  {
   "cell_type": "code",
   "execution_count": 11,
   "metadata": {},
   "outputs": [],
   "source": [
    "words[['words', 'sentiment_coeff']].to_csv('sentiment_dictionary.csv', index=False)"
   ]
  },
  {
   "cell_type": "code",
   "execution_count": null,
   "metadata": {},
   "outputs": [],
   "source": []
  },
  {
   "cell_type": "code",
   "execution_count": null,
   "metadata": {},
   "outputs": [],
   "source": []
  }
 ],
 "metadata": {
  "kernelspec": {
   "display_name": "Python 3",
   "language": "python",
   "name": "python3"
  },
  "language_info": {
   "codemirror_mode": {
    "name": "ipython",
    "version": 3
   },
   "file_extension": ".py",
   "mimetype": "text/x-python",
   "name": "python",
   "nbconvert_exporter": "python",
   "pygments_lexer": "ipython3",
   "version": "3.7.6"
  }
 },
 "nbformat": 4,
 "nbformat_minor": 4
}
