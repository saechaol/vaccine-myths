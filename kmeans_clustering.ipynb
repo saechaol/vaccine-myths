{
 "cells": [
  {
   "cell_type": "code",
   "execution_count": 41,
   "metadata": {},
   "outputs": [],
   "source": [
    "import pandas as pd\n",
    "import numpy as np\n",
    "from gensim.models import Word2Vec\n",
    "from sklearn.cluster import KMeans"
   ]
  },
  {
   "cell_type": "code",
   "execution_count": 42,
   "metadata": {},
   "outputs": [],
   "source": [
    "word_vectors = Word2Vec.load(\"word2vec.model\").wv"
   ]
  },
  {
   "cell_type": "code",
   "execution_count": 43,
   "metadata": {},
   "outputs": [],
   "source": [
    "model = KMeans(n_clusters=2, max_iter=1000, random_state=True, n_init=50).fit(X=word_vectors.vectors.astype('double'))"
   ]
  },
  {
   "cell_type": "code",
   "execution_count": 44,
   "metadata": {},
   "outputs": [
    {
     "data": {
      "text/plain": [
       "[('doses', 0.9999558925628662),\n",
       " ('since', 0.9999539852142334),\n",
       " ('found', 0.9999500513076782),\n",
       " ('so', 0.9999498128890991),\n",
       " ('brain', 0.9999492168426514),\n",
       " ('disease', 0.9999492168426514),\n",
       " ('2', 0.9999465942382812),\n",
       " ('data', 0.9999463558197021),\n",
       " ('many', 0.9999451041221619),\n",
       " ('sequences_obtained', 0.9999449849128723)]"
      ]
     },
     "execution_count": 44,
     "metadata": {},
     "output_type": "execute_result"
    }
   ],
   "source": [
    "word_vectors.similar_by_vector(model.cluster_centers_[1], topn=10, restrict_vocab=None)"
   ]
  },
  {
   "cell_type": "code",
   "execution_count": 45,
   "metadata": {},
   "outputs": [],
   "source": [
    "positive_cluster_index = 1\n",
    "positive_cluster_center = model.cluster_centers_[positive_cluster_index]\n",
    "negative_cluster_center = model.cluster_centers_[1-positive_cluster_index]"
   ]
  },
  {
   "cell_type": "code",
   "execution_count": 46,
   "metadata": {},
   "outputs": [],
   "source": [
    "words = pd.DataFrame(word_vectors.index_to_key)\n",
    "words.columns = ['words']\n",
    "words['vectors'] = words.words.apply(lambda x: word_vectors[f'{x}'])\n",
    "words['cluster'] = words.vectors.apply(lambda x: model.predict([np.array(x)]))\n",
    "words.cluster = words.cluster.apply(lambda x: x[0])"
   ]
  },
  {
   "cell_type": "code",
   "execution_count": 47,
   "metadata": {},
   "outputs": [],
   "source": [
    "words['cluster_value'] = [1 if i==positive_cluster_index else -1 for i in words.cluster]\n",
    "words['closeness_score'] = words.apply(lambda x: 1/(model.transform([x.vectors]).min()), axis=1)\n",
    "words['sentiment_coeff'] = words.closeness_score * words.cluster_value"
   ]
  },
  {
   "cell_type": "code",
   "execution_count": 50,
   "metadata": {},
   "outputs": [
    {
     "data": {
      "text/html": [
       "<div>\n",
       "<style scoped>\n",
       "    .dataframe tbody tr th:only-of-type {\n",
       "        vertical-align: middle;\n",
       "    }\n",
       "\n",
       "    .dataframe tbody tr th {\n",
       "        vertical-align: top;\n",
       "    }\n",
       "\n",
       "    .dataframe thead th {\n",
       "        text-align: right;\n",
       "    }\n",
       "</style>\n",
       "<table border=\"1\" class=\"dataframe\">\n",
       "  <thead>\n",
       "    <tr style=\"text-align: right;\">\n",
       "      <th></th>\n",
       "      <th>words</th>\n",
       "      <th>vectors</th>\n",
       "      <th>cluster</th>\n",
       "      <th>cluster_value</th>\n",
       "      <th>closeness_score</th>\n",
       "      <th>sentiment_coeff</th>\n",
       "    </tr>\n",
       "  </thead>\n",
       "  <tbody>\n",
       "    <tr>\n",
       "      <th>0</th>\n",
       "      <td>-</td>\n",
       "      <td>[-0.013824727, 0.0143131865, 0.013475332, 0.11...</td>\n",
       "      <td>1</td>\n",
       "      <td>1</td>\n",
       "      <td>66.661745</td>\n",
       "      <td>66.661745</td>\n",
       "    </tr>\n",
       "    <tr>\n",
       "      <th>1</th>\n",
       "      <td>not</td>\n",
       "      <td>[-0.014605133, 0.016091457, 0.012810076, 0.114...</td>\n",
       "      <td>0</td>\n",
       "      <td>-1</td>\n",
       "      <td>75.514092</td>\n",
       "      <td>-75.514092</td>\n",
       "    </tr>\n",
       "    <tr>\n",
       "      <th>2</th>\n",
       "      <td>the</td>\n",
       "      <td>[-0.0127085345, 0.014184553, 0.012724489, 0.11...</td>\n",
       "      <td>1</td>\n",
       "      <td>1</td>\n",
       "      <td>83.483301</td>\n",
       "      <td>83.483301</td>\n",
       "    </tr>\n",
       "    <tr>\n",
       "      <th>3</th>\n",
       "      <td>vaccines</td>\n",
       "      <td>[-0.014170492, 0.0138862515, 0.011940373, 0.11...</td>\n",
       "      <td>0</td>\n",
       "      <td>-1</td>\n",
       "      <td>80.409087</td>\n",
       "      <td>-80.409087</td>\n",
       "    </tr>\n",
       "    <tr>\n",
       "      <th>4</th>\n",
       "      <td>vaccine</td>\n",
       "      <td>[-0.013715236, 0.013930355, 0.013878578, 0.113...</td>\n",
       "      <td>0</td>\n",
       "      <td>-1</td>\n",
       "      <td>72.761696</td>\n",
       "      <td>-72.761696</td>\n",
       "    </tr>\n",
       "    <tr>\n",
       "      <th>...</th>\n",
       "      <td>...</td>\n",
       "      <td>...</td>\n",
       "      <td>...</td>\n",
       "      <td>...</td>\n",
       "      <td>...</td>\n",
       "      <td>...</td>\n",
       "    </tr>\n",
       "    <tr>\n",
       "      <th>95</th>\n",
       "      <td>cause</td>\n",
       "      <td>[-0.013151794, 0.015579657, 0.011972975, 0.115...</td>\n",
       "      <td>0</td>\n",
       "      <td>-1</td>\n",
       "      <td>85.030966</td>\n",
       "      <td>-85.030966</td>\n",
       "    </tr>\n",
       "    <tr>\n",
       "      <th>96</th>\n",
       "      <td>risk</td>\n",
       "      <td>[-0.013881095, 0.014779517, 0.011810715, 0.114...</td>\n",
       "      <td>1</td>\n",
       "      <td>1</td>\n",
       "      <td>85.077456</td>\n",
       "      <td>85.077456</td>\n",
       "    </tr>\n",
       "    <tr>\n",
       "      <th>97</th>\n",
       "      <td>case</td>\n",
       "      <td>[-0.012741848, 0.0143347755, 0.013850071, 0.11...</td>\n",
       "      <td>0</td>\n",
       "      <td>-1</td>\n",
       "      <td>81.695548</td>\n",
       "      <td>-81.695548</td>\n",
       "    </tr>\n",
       "    <tr>\n",
       "      <th>98</th>\n",
       "      <td>www_ncbi</td>\n",
       "      <td>[-0.01318918, 0.013855442, 0.014067681, 0.1139...</td>\n",
       "      <td>0</td>\n",
       "      <td>-1</td>\n",
       "      <td>77.110120</td>\n",
       "      <td>-77.110120</td>\n",
       "    </tr>\n",
       "    <tr>\n",
       "      <th>99</th>\n",
       "      <td>body</td>\n",
       "      <td>[-0.014163562, 0.014850708, 0.012292652, 0.115...</td>\n",
       "      <td>0</td>\n",
       "      <td>-1</td>\n",
       "      <td>79.425007</td>\n",
       "      <td>-79.425007</td>\n",
       "    </tr>\n",
       "  </tbody>\n",
       "</table>\n",
       "<p>100 rows × 6 columns</p>\n",
       "</div>"
      ],
      "text/plain": [
       "       words                                            vectors  cluster  \\\n",
       "0          -  [-0.013824727, 0.0143131865, 0.013475332, 0.11...        1   \n",
       "1        not  [-0.014605133, 0.016091457, 0.012810076, 0.114...        0   \n",
       "2        the  [-0.0127085345, 0.014184553, 0.012724489, 0.11...        1   \n",
       "3   vaccines  [-0.014170492, 0.0138862515, 0.011940373, 0.11...        0   \n",
       "4    vaccine  [-0.013715236, 0.013930355, 0.013878578, 0.113...        0   \n",
       "..       ...                                                ...      ...   \n",
       "95     cause  [-0.013151794, 0.015579657, 0.011972975, 0.115...        0   \n",
       "96      risk  [-0.013881095, 0.014779517, 0.011810715, 0.114...        1   \n",
       "97      case  [-0.012741848, 0.0143347755, 0.013850071, 0.11...        0   \n",
       "98  www_ncbi  [-0.01318918, 0.013855442, 0.014067681, 0.1139...        0   \n",
       "99      body  [-0.014163562, 0.014850708, 0.012292652, 0.115...        0   \n",
       "\n",
       "    cluster_value  closeness_score  sentiment_coeff  \n",
       "0               1        66.661745        66.661745  \n",
       "1              -1        75.514092       -75.514092  \n",
       "2               1        83.483301        83.483301  \n",
       "3              -1        80.409087       -80.409087  \n",
       "4              -1        72.761696       -72.761696  \n",
       "..            ...              ...              ...  \n",
       "95             -1        85.030966       -85.030966  \n",
       "96              1        85.077456        85.077456  \n",
       "97             -1        81.695548       -81.695548  \n",
       "98             -1        77.110120       -77.110120  \n",
       "99             -1        79.425007       -79.425007  \n",
       "\n",
       "[100 rows x 6 columns]"
      ]
     },
     "execution_count": 50,
     "metadata": {},
     "output_type": "execute_result"
    }
   ],
   "source": [
    "words.head(100)"
   ]
  },
  {
   "cell_type": "code",
   "execution_count": 49,
   "metadata": {},
   "outputs": [],
   "source": [
    "words[['words', 'sentiment_coeff']].to_csv('sentiment_dictionary.csv', index=False)"
   ]
  },
  {
   "cell_type": "code",
   "execution_count": null,
   "metadata": {},
   "outputs": [],
   "source": []
  },
  {
   "cell_type": "code",
   "execution_count": null,
   "metadata": {},
   "outputs": [],
   "source": []
  }
 ],
 "metadata": {
  "kernelspec": {
   "display_name": "Python 3",
   "language": "python",
   "name": "python3"
  },
  "language_info": {
   "codemirror_mode": {
    "name": "ipython",
    "version": 3
   },
   "file_extension": ".py",
   "mimetype": "text/x-python",
   "name": "python",
   "nbconvert_exporter": "python",
   "pygments_lexer": "ipython3",
   "version": "3.7.6"
  }
 },
 "nbformat": 4,
 "nbformat_minor": 4
}
